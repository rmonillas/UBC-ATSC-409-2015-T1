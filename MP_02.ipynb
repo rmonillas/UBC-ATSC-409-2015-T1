{
 "cells": [
  {
   "cell_type": "markdown",
   "metadata": {},
   "source": [
    " # ATSC 409 Mini-Project 2"
   ]
  },
  {
   "cell_type": "code",
   "execution_count": 2,
   "metadata": {
    "collapsed": false
   },
   "outputs": [
    {
     "data": {
      "image/png": "[encoded data removed]",
      "text/plain": [
       "<matplotlib.figure.Figure at 0x81d8438>"
      ]
     },
     "metadata": {},
     "output_type": "display_data"
    }
   ],
   "source": [
    "%matplotlib inline\n",
    "import numlabs.lab5.lab5_funs\n",
    "from importlib import reload\n",
    "reload(numlabs.lab5.lab5_funs)\n",
    "from numlabs.lab5.lab5_funs import Integrator\n",
    "from collections import namedtuple\n",
    "import numpy as np\n",
    "import matplotlib.pyplot as plt\n",
    "import pandas as pd\n",
    "\n",
    "\n",
    "class IntegMP(Integrator):\n",
    "\n",
    "    def set_yinit(self):\n",
    "        # Read in 'albedo_white chi S0 L albedo_black Rs albedo_ground'.\n",
    "        # Read in new params 'lamb pi bigSigma mu gamma eta'.\n",
    "        uservars = namedtuple('uservars', self.config['uservars'].keys())\n",
    "        self.uservars = uservars(**self.config['uservars'])\n",
    "        # Read in 'whiteconc blackconc'.\n",
    "        # Read in new params 'rabbitconc foxconc'.\n",
    "        initvars = namedtuple('initvars', self.config['initvars'].keys())\n",
    "        self.initvars = initvars(**self.config['initvars'])\n",
    "        self.yinit = np.array(\n",
    "            [self.initvars.whiteconc, self.initvars.blackconc,\n",
    "             self.initvars.rabbitconc, self.initvars.foxconc])\n",
    "        self.nvars = len(self.yinit)\n",
    "        return None\n",
    "\n",
    "    def __init__(self, coeff_file_name):\n",
    "        super().__init__(coeff_file_name)\n",
    "        self.set_yinit()\n",
    "\n",
    "    def find_temp(self, yvals):\n",
    "        \"\"\"\n",
    "            Calculate the temperatures over the white and black daisies\n",
    "            and the planetary equilibrium temperature given the daisy fractions\n",
    "            input:  yvals -- array of dimension [2] with the white [0] and \n",
    "                    black [1] daisy fraction\n",
    "            output: white temperature (K), black temperature (K), equilibrium \n",
    "                    temperature (K)\n",
    "        \"\"\"\n",
    "        sigma = 5.67e-8  # Stefan Boltzman constant W/m^2/K^4\n",
    "        user = self.uservars\n",
    "        bare = 1.0 - yvals[0] - yvals[1]\n",
    "        albedo_p = bare * user.albedo_ground + \\\n",
    "            yvals[0] * user.albedo_white + yvals[1] * user.albedo_black\n",
    "        Te_4 = user.S0 / 4.0 * user.L * (1.0 - albedo_p) / sigma\n",
    "        temp_e = Te_4**0.25\n",
    "        eta = user.Rs * user.L* user.S0 / (4.0 * sigma)\n",
    "        temp_b = (eta * (albedo_p - user.albedo_black) + Te_4)**0.25\n",
    "        temp_w = (eta * (albedo_p - user.albedo_white) + Te_4)**0.25\n",
    "        return (temp_w, temp_b, temp_e)\n",
    "\n",
    "    def derivs5(self, y, t):\n",
    "        \"\"\"y[0] = fraction white daisies\n",
    "           y[1] = fraction black daisies\n",
    "           y[2] = fraction rabbit pop\n",
    "           y[3] = fraction fox pop\n",
    "           no feedback between daisies and albedo_p (set to ground albedo)\n",
    "        \"\"\"\n",
    "        temp_w, temp_b, temp_e = self.find_temp(y)\n",
    "\n",
    "        if(temp_b >= 277.5 and temp_b <= 312.5):\n",
    "            beta_b = 1.0 - 0.003265 * (295.0 - temp_b)**2.0\n",
    "        else:\n",
    "            beta_b = 0.0\n",
    "\n",
    "        if(temp_w >= 277.5 and temp_w <= 312.5):\n",
    "            beta_w = 1.0 - 0.003265 * (295.0 - temp_w)**2.0\n",
    "        else:\n",
    "            beta_w = 0.0\n",
    "            \n",
    "        user = self.uservars\n",
    "        bare = 1.0 - y[0] - y[1]\n",
    "        # create a 1 x 2 element vector to hold the derivitive\n",
    "        f = np.empty_like(y)\n",
    "        f[0] = y[0] * (beta_w*bare - (user.chi + y[2]*user.lamb))\n",
    "        f[1] = y[1] * (beta_b*bare - (user.chi + y[2]*user.lamb))\n",
    "        f[2] = y[2] * (user.pi*(1-bare) - (user.bigSigma + y[3]*user.mu))\n",
    "        f[3] = y[3] * (y[2]*user.gamma - user.eta)\n",
    "        return f\n",
    "\n",
    "\n",
    "theSolver = IntegMP('mp2.yaml')\n",
    "timevals, yvals, errorlist = theSolver.timeloop5fixed()\n",
    "pops = pd.DataFrame(yvals, columns=['white', 'black', 'rabbits', 'foxes'])\n",
    "\n",
    "thefig, theAx = plt.subplots(1, 1)\n",
    "line1, = theAx.plot(timevals, pops['white'])\n",
    "line2, = theAx.plot(timevals, pops['black'])\n",
    "line3, = theAx.plot(timevals, pops['rabbits'])\n",
    "line4, = theAx.plot(timevals, pops['foxes'])\n",
    "line1.set(linestyle='--', color='r', label='white')\n",
    "line2.set(linestyle='--', color='k', label='black')\n",
    "line3.set(linestyle='--', color='b', label='rabbits')\n",
    "line4.set(linestyle='--', color='g', label='foxes')\n",
    "theAx.set_title('Modified Daisyworld')\n",
    "theAx.set_xlabel('Time')\n",
    "theAx.set_ylabel('Fractional coverage')\n",
    "out=theAx.legend(loc='best')"
   ]
  },
  {
   "cell_type": "code",
   "execution_count": null,
   "metadata": {
    "collapsed": true
   },
   "outputs": [],
   "source": []
  }
 ],
 "metadata": {
  "kernelspec": {
   "display_name": "Python 3",
   "language": "python",
   "name": "python3"
  },
  "language_info": {
   "codemirror_mode": {
    "name": "ipython",
    "version": 3
   },
   "file_extension": ".py",
   "mimetype": "text/x-python",
   "name": "python",
   "nbconvert_exporter": "python",
   "pygments_lexer": "ipython3",
   "version": "3.4.3"
  }
 },
 "nbformat": 4,
 "nbformat_minor": 0
}
