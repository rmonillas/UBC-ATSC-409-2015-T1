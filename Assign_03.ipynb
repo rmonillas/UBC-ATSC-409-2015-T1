{
 "cells": [
  {
   "cell_type": "markdown",
   "metadata": {},
   "source": [
    "# ATSC 409 Assignment 3 Question 1"
   ]
  },
  {
   "cell_type": "code",
   "execution_count": null,
   "metadata": {
    "collapsed": true
   },
   "outputs": [],
   "source": [
    "import numpy as np"
   ]
  },
  {
   "cell_type": "code",
   "execution_count": 20,
   "metadata": {
    "collapsed": false
   },
   "outputs": [
    {
     "name": "stdout",
     "output_type": "stream",
     "text": [
      "[  2.00000000e+04   4.00000000e+04   2.66666667e-10]\n"
     ]
    }
   ],
   "source": [
    "##### Solve the original matrix.\n",
    "A = np.array([[-1/28e12 - 0.05, 1/25e13,        0],\n",
    "              [0,               1/10e14,        -1/72e10 - 0.15],\n",
    "              [1/28e12,         -7/5e14 - 0.05, 1/72e10 + 0.1]]) \n",
    "b = np.array([-1000, 0, -2000])\n",
    "x = np.linalg.solve(A, b)\n",
    "print(x)"
   ]
  },
  {
   "cell_type": "code",
   "execution_count": 19,
   "metadata": {
    "collapsed": false
   },
   "outputs": [
    {
     "name": "stdout",
     "output_type": "stream",
     "text": [
      "[  6.53333333e+16   3.33333333e+17   3.33333333e+03]\n"
     ]
    }
   ],
   "source": [
    "##### Solve the matrix with L3 = 0.\n",
    "A2 = np.array([[-1/28e12, 1/25e13, 0],\n",
    "               [0,        1/10e14, -1/72e10 - 0.1],\n",
    "               [1/28e12,  -7/5e14, 1/72e10 + 0.1]]) \n",
    "b2 = np.array([-1000, 0, -2000])\n",
    "x2 = np.linalg.solve(A2, b2)\n",
    "print(x2)"
   ]
  },
  {
   "cell_type": "code",
   "execution_count": 18,
   "metadata": {
    "collapsed": false
   },
   "outputs": [
    {
     "name": "stdout",
     "output_type": "stream",
     "text": [
      "[-0. -0. -0.]\n"
     ]
    }
   ],
   "source": [
    "##### Solve the matrix with L3 = 0 and P1 = P2 = 0.\n",
    "A3 = np.array([[-1/28e12, 1/25e13, 0],\n",
    "               [0,        1/10e14, -1/72e10 - 0.1],\n",
    "               [1/28e12,  -7/5e14, 1/72e10 + 0.1]]) \n",
    "b3 = np.array([0, 0, 0])\n",
    "x3 = np.linalg.solve(A3, b3)\n",
    "print(x3)"
   ]
  },
  {
   "cell_type": "markdown",
   "metadata": {},
   "source": [
    "#ATSC 409 Assignment 3 Question 2"
   ]
  },
  {
   "cell_type": "code",
   "execution_count": null,
   "metadata": {
    "collapsed": true
   },
   "outputs": [],
   "source": [
    "import numpy as np\n",
    "import scipy.stats as sps"
   ]
  },
  {
   "cell_type": "code",
   "execution_count": 10,
   "metadata": {
    "collapsed": false
   },
   "outputs": [
    {
     "data": {
      "text/plain": [
       "array([[ 1.,  0.,  0.,  0.,  0.,  0.,  0.,  0.,  0.,  0.,  0.],\n",
       "       [ 1., -2.,  1.,  0.,  0.,  0.,  0.,  0.,  0.,  0.,  0.],\n",
       "       [ 0.,  1., -2.,  1.,  0.,  0.,  0.,  0.,  0.,  0.,  0.],\n",
       "       [ 0.,  0.,  1., -2.,  1.,  0.,  0.,  0.,  0.,  0.,  0.],\n",
       "       [ 0.,  0.,  0.,  1., -2.,  1.,  0.,  0.,  0.,  0.,  0.],\n",
       "       [ 0.,  0.,  0.,  0.,  1., -2.,  1.,  0.,  0.,  0.,  0.],\n",
       "       [ 0.,  0.,  0.,  0.,  0.,  1., -2.,  1.,  0.,  0.,  0.],\n",
       "       [ 0.,  0.,  0.,  0.,  0.,  0.,  1., -2.,  1.,  0.,  0.],\n",
       "       [ 0.,  0.,  0.,  0.,  0.,  0.,  0.,  1., -2.,  1.,  0.],\n",
       "       [ 0.,  0.,  0.,  0.,  0.,  0.,  0.,  0.,  1., -2.,  1.],\n",
       "       [ 0.,  0.,  0.,  0.,  0.,  0.,  0.,  0.,  0.,  0.,  1.]])"
      ]
     },
     "execution_count": 10,
     "metadata": {},
     "output_type": "execute_result"
    }
   ],
   "source": [
    "##### Write a function that creates the differential system matrix of size N+1\n",
    "##### x N+1 given N.\n",
    "def dir(N):\n",
    "    m = np.zeros((N+1, N+1))\n",
    "    m[0, 0] = m[N, N] = 1\n",
    "    for i in range(1,N):\n",
    "        m[i, i-1] = m[i, i+1] = 1\n",
    "        m[i, i] = -2\n",
    "    return m\n",
    "dir(10)"
   ]
  },
  {
   "cell_type": "code",
   "execution_count": 11,
   "metadata": {
    "collapsed": false
   },
   "outputs": [
    {
     "name": "stdout",
     "output_type": "stream",
     "text": [
      "[   10.99460032    15.23311899    20.33652615    26.28708642    33.07381141\n",
      "    40.68975498    49.13030204    58.39225245    68.47331059    79.37178441\n",
      "    91.08639877   103.6161745    116.9603475    131.11831298   146.08958623\n",
      "   161.87377438   178.47055573   195.87966446   214.10087905   233.13401347\n",
      "   252.97891039   273.63543586   295.10347518   317.38292953   340.47371337\n",
      "   364.37575226   389.08898114   414.61334289   440.94878717   468.09526945\n",
      "   496.05275018   524.82119413   554.40056982   584.79084902   615.99200636\n",
      "   648.00401895   680.82686612   714.46052914   748.904991     784.16023621\n",
      "   820.22625064   857.1030214    894.79053664   933.28878553   972.59775809\n",
      "  1012.71744515]\n"
     ]
    }
   ],
   "source": [
    "##### Compute the condition number for the differential system matrix for \n",
    "##### several values of N between 5 and 50.\n",
    "K = np.ndarray((46,), float)\n",
    "for i in range(5,51):\n",
    "    K[i-5] = np.linalg.cond(dir(i))\n",
    "print(K)"
   ]
  },
  {
   "cell_type": "code",
   "execution_count": 13,
   "metadata": {
    "collapsed": false
   },
   "outputs": [
    {
     "data": {
      "text/plain": [
       "array([[-2.,  1.,  0.,  0.,  0.,  0.,  0.,  0.,  0.],\n",
       "       [ 1., -2.,  1.,  0.,  0.,  0.,  0.,  0.,  0.],\n",
       "       [ 0.,  1., -2.,  1.,  0.,  0.,  0.,  0.,  0.],\n",
       "       [ 0.,  0.,  1., -2.,  1.,  0.,  0.,  0.,  0.],\n",
       "       [ 0.,  0.,  0.,  1., -2.,  1.,  0.,  0.,  0.],\n",
       "       [ 0.,  0.,  0.,  0.,  1., -2.,  1.,  0.,  0.],\n",
       "       [ 0.,  0.,  0.,  0.,  0.,  1., -2.,  1.,  0.],\n",
       "       [ 0.,  0.,  0.,  0.,  0.,  0.,  1., -2.,  1.],\n",
       "       [ 0.,  0.,  0.,  0.,  0.,  0.,  0.,  1., -2.]])"
      ]
     },
     "execution_count": 13,
     "metadata": {},
     "output_type": "execute_result"
    }
   ],
   "source": [
    "##### Take the N-1 x N-1 submatrix of dir(N) and compare the condition number\n",
    "##### for the new matrix to the condition number for the original matrix.\n",
    "def dire(N):\n",
    "    m = np.zeros((N-1, N-1))\n",
    "    for i in range(0,N-1):\n",
    "        m[i, i] = -2\n",
    "    for i in range(1,N-1):\n",
    "        m[i, i-1] = m[i-1, i] = 1\n",
    "    return m\n",
    "dire(10)"
   ]
  },
  {
   "cell_type": "code",
   "execution_count": 12,
   "metadata": {
    "collapsed": false
   },
   "outputs": [
    {
     "name": "stdout",
     "output_type": "stream",
     "text": [
      "[    9.47213595    13.92820323    19.19566936    25.27414237    32.16343748\n",
      "    39.86345819    48.37415008    57.69548054    67.82742907    78.76998224\n",
      "    90.52313097   103.08686892   116.46119158   130.64609564   145.64157867\n",
      "   161.4476388    178.06427461   195.491485     213.7292691    232.77762622\n",
      "   252.63655579   273.30605738   294.7861306    317.07677515   340.17799079\n",
      "   364.0897773    388.81213449   414.34506223   440.68856038   467.84262884\n",
      "   495.8072675    524.5824763    554.16825515   584.564604     615.77152279\n",
      "   647.78901148   680.61707002   714.25569838   748.70489653   783.96466444\n",
      "   820.03500208   856.91590943   894.60738648   933.10943319   972.42204956\n",
      "  1012.54523556]\n"
     ]
    }
   ],
   "source": [
    "C = np.ndarray((46,), float)\n",
    "for i in range(5,51):\n",
    "    C[i-5] = np.linalg.cond(dire(i))\n",
    "print(C)"
   ]
  },
  {
   "cell_type": "code",
   "execution_count": 14,
   "metadata": {
    "collapsed": false
   },
   "outputs": [
    {
     "data": {
      "text/plain": [
       "array([ 1.52246436,  1.30491576,  1.14085679,  1.01294405,  0.91037393,\n",
       "        0.82629679,  0.75615196,  0.69677191,  0.64588152,  0.60180217,\n",
       "        0.5632678 ,  0.52930558,  0.49915592,  0.47221734,  0.44800757,\n",
       "        0.42613558,  0.40628111,  0.38817945,  0.37160995,  0.35638725,\n",
       "        0.34235459,  0.32937849,  0.31734458,  0.30615438,  0.29572258,\n",
       "        0.28597496,  0.27684664,  0.26828065,  0.26022678,  0.25264061,\n",
       "        0.24548268,  0.23871784,  0.23231468,  0.22624503,  0.22048357,\n",
       "        0.21500747,  0.2097961 ,  0.20483076,  0.20009447,  0.19557177,\n",
       "        0.19124856,  0.18711196,  0.18315016,  0.17935234,  0.17570854,\n",
       "        0.17220958])"
      ]
     },
     "execution_count": 14,
     "metadata": {},
     "output_type": "execute_result"
    }
   ],
   "source": [
    "##### Is the difference between the condition numbers significant?\n",
    "abs(C-K)"
   ]
  },
  {
   "cell_type": "code",
   "execution_count": 15,
   "metadata": {
    "collapsed": false
   },
   "outputs": [
    {
     "data": {
      "text/plain": [
       "(9.3646236705173589, 3.9012462234016944e-12)"
      ]
     },
     "execution_count": 15,
     "metadata": {},
     "output_type": "execute_result"
    }
   ],
   "source": [
    "##### Perform a one-sample t-test on the differences.\n",
    "sps.ttest_1samp(abs(C-K), 0)"
   ]
  },
  {
   "cell_type": "markdown",
   "metadata": {},
   "source": [
    "Based on the matrices above, it is obvious that the condition number C or K increases as the size of the matrix N increases. According to the one-sample t-test, there is no significant difference between the condition numbers of the A1 matrices (original w/ size N+1 x N+1) and the condition numbers of the A2 matrices (modified w/ size N-1 x N-1)."
   ]
  }
 ],
 "metadata": {
  "kernelspec": {
   "display_name": "Python 3",
   "language": "python",
   "name": "python3"
  },
  "language_info": {
   "codemirror_mode": {
    "name": "ipython",
    "version": 3
   },
   "file_extension": ".py",
   "mimetype": "text/x-python",
   "name": "python",
   "nbconvert_exporter": "python",
   "pygments_lexer": "ipython3",
   "version": "3.4.3"
  }
 },
 "nbformat": 4,
 "nbformat_minor": 0
}
